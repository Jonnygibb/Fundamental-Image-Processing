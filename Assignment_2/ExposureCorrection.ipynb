{
 "cells": [
  {
   "cell_type": "markdown",
   "metadata": {},
   "source": [
    "# WM391 PMA Assessment"
   ]
  },
  {
   "cell_type": "markdown",
   "metadata": {},
   "source": [
    "## Convolutional Neural Network for the Exposure Correction of Poorly Exposed Images"
   ]
  },
  {
   "cell_type": "markdown",
   "metadata": {},
   "source": [
    "This notebook implements a Generative Adversarial Network for the purpose of generating well exposed images using training data based on images which are over or over exposed."
   ]
  },
  {
   "cell_type": "markdown",
   "metadata": {},
   "source": [
    "### Import required libraries"
   ]
  },
  {
   "cell_type": "code",
   "execution_count": 1,
   "metadata": {},
   "outputs": [],
   "source": [
    "import torch\n",
    "import torch.nn as nn\n",
    "import torch.optim as optim\n",
    "import tqdm\n",
    "from PIL import Image\n",
    "import os\n",
    "import numpy as np\n",
    "from torch.utils.data import Dataset, DataLoader"
   ]
  },
  {
   "cell_type": "markdown",
   "metadata": {},
   "source": [
    "### Set Parameters for the use of the Model"
   ]
  },
  {
   "cell_type": "markdown",
   "metadata": {},
   "source": [
    "This configuration is setup to use the WM391_PMA_dataset. Use with other datasets will require modification of the dataloader"
   ]
  },
  {
   "cell_type": "code",
   "execution_count": 2,
   "metadata": {},
   "outputs": [],
   "source": [
    "# Chooses the most appropriate device given the machines constraints\n",
    "DEVICE = \"cuda\" if torch.cuda.is_available() else \"cpu\"\n",
    "# Set path of dataset. Please change as appripriate\n",
    "TRAIN_DIR = \"WM391_PMA_dataset\\\\training\"\n",
    "VAL_DIR = \"WM391_PMA_dataset\\\\validation\"\n",
    "# Determines how quickly the gradient is travelled for the machine learning model\n",
    "LEARNING_RATE = 2e-4\n",
    "# Sets the number of images that are sent to the device per iteration\n",
    "BATCH_SIZE = 64\n",
    "# Number of cpu threads used\n",
    "NUM_WORKERS = 2\n",
    "# Size of the images used to train the model\n",
    "IMAGE_SIZE = 256\n",
    "# Specifies the number of channels in the images input to the model\n",
    "CHANNELS_IMG = 3\n",
    "#L1_LAMBDA = 100\n",
    "#LAMBDA_GP = 10\n",
    "# Number of times the model is trained with the entire training dataset\n",
    "NUM_EPOCHS = 500\n",
    "# Load model weights & parameters from checkpoint state\n",
    "LOAD_MODEL = False\n",
    "# Save model weights & parameters to checkpoint file\n",
    "SAVE_MODEL = False\n",
    "# Set file location for the discriminator and generator checkpoint files\n",
    "CHECKPOINT_DISC = \"disc.pth.tar\"\n",
    "CHECKPOINT_GEN = \"gen.pth.tar\""
   ]
  },
  {
   "cell_type": "markdown",
   "metadata": {},
   "source": [
    "### Create a Dataset and Dataloader"
   ]
  },
  {
   "cell_type": "markdown",
   "metadata": {},
   "source": [
    "Return the poorly exposed image and its corresponding ground truth image. This gives the GAN an input image and a target image to work towards for every example in the training dataset. Using pytorch dataloaders requries overwriting of the datasets ```__len__``` and the ```__getitem__``` methods to return the correct size of the dataset and an example from the dataset respectivly."
   ]
  },
  {
   "cell_type": "code",
   "execution_count": 3,
   "metadata": {},
   "outputs": [],
   "source": [
    "class ExposedImageDataset(Dataset):\n",
    "    def __init__(self, root_dir, transform_both=None, transform_varied_exposure=None, transform_ground_truth=None):\n",
    "        \n",
    "        # Set paths to image directories\n",
    "        self.root_dir = root_dir\n",
    "        self.variable_exposure_path = os.path.join(root_dir, \"INPUT_IMAGES\")\n",
    "        self.ground_truth_path = os.path.join(root_dir, \"GT_IMAGES\")\n",
    "\n",
    "        # Initialise transforms to class variables\n",
    "        self.transform_both = transform_both\n",
    "        self.transform_varied_exposure = transform_varied_exposure\n",
    "        self.transform_ground_truth = transform_ground_truth\n",
    "\n",
    "        # Get the list of file names from the directories\n",
    "        self.variable_exposure_images = os.listdir(self.variable_exposure_path)\n",
    "        self.ground_truth_images = os.listdir(self.ground_truth_path)\n",
    "        \n",
    "        # Get length of individual dataset classes\n",
    "        self.variable_exposure_len = len(self.variable_exposure_images)\n",
    "        self.ground_truth_len = len(self.ground_truth_images)\n",
    "        \n",
    "        # Use the variable exposure length since it holds all the training images\n",
    "        self.length_dataset = self.variable_exposure_len\n",
    "\n",
    "    def __len__(self):\n",
    "        return self.length_dataset\n",
    "\n",
    "    def get_file_name(self, index):\n",
    "        # Modulo input index to prevent an index out of range of the dataset\n",
    "        index = index % self.length_dataset\n",
    "        variable_exposure_image = self.variable_exposure_images[index]\n",
    "        # Floor the ground truth index by 5 since there are 5 exposures for every corresponding ground truth\n",
    "        ground_truth_image = self.ground_truth_images[index // 5]\n",
    "\n",
    "        return variable_exposure_image, ground_truth_image\n",
    "\n",
    "    def __getitem__(self, index):\n",
    "        variable_exposure_image, ground_truth_image = self.get_file_name(index)\n",
    "\n",
    "        # Create full path to image\n",
    "        variable_exposure_image_path = os.path.join(self.variable_exposure_path, variable_exposure_image)\n",
    "        ground_truth_image_path = os.path.join(self.ground_truth_path, ground_truth_image)\n",
    "\n",
    "        # Open the image as an RGB numpy array\n",
    "        variable_exposure_image = np.array(Image.open(variable_exposure_image_path).convert(\"RGB\"))\n",
    "        ground_truth_image = np.array(Image.open(ground_truth_image_path).convert(\"RGB\"))\n",
    "\n",
    "        # If there's an image transform for both images, apply the transform\n",
    "        if self.transform_both:\n",
    "            augentations = self.transform_both(image=variable_exposure_image, image0=ground_truth_image)\n",
    "            variable_exposure_image = augentations[\"image\"]\n",
    "            ground_truth_image = augentations[\"image0\"]\n",
    "\n",
    "        # If ther's an image transform for the varied exposure image, apply the transform\n",
    "        if self.transform_varied_exposure:\n",
    "            variable_exposure_image = self.transform_varied_exposure(image=variable_exposure_image)[\"image\"]\n",
    "\n",
    "        # IF there's an image transform for the ground truth image, apply the transform\n",
    "        if self.transform_ground_truth:\n",
    "            ground_truth_image = self.transform_varied_exposure(image=ground_truth_image)[\"image\"]\n",
    "\n",
    "        return variable_exposure_image, ground_truth_image"
   ]
  },
  {
   "cell_type": "markdown",
   "metadata": {},
   "source": [
    "### Test the Exposed Image Dataset"
   ]
  },
  {
   "cell_type": "code",
   "execution_count": 10,
   "metadata": {},
   "outputs": [
    {
     "name": "stdout",
     "output_type": "stream",
     "text": [
      "Variable exposure: torch.Size([5, 600, 903, 3])\n",
      "Ground truth: torch.Size([5, 600, 903, 3])\n",
      "Variable exposure: torch.Size([5, 1277, 850, 3])\n",
      "Ground truth: torch.Size([5, 1277, 850, 3])\n",
      "Variable exposure: torch.Size([5, 1167, 778, 3])\n",
      "Ground truth: torch.Size([5, 1167, 778, 3])\n",
      "Variable exposure: torch.Size([5, 874, 1311, 3])\n",
      "Ground truth: torch.Size([5, 874, 1311, 3])\n",
      "Variable exposure: torch.Size([5, 1052, 701, 3])\n",
      "Ground truth: torch.Size([5, 1052, 701, 3])\n"
     ]
    }
   ],
   "source": [
    "dataset = ExposedImageDataset(TRAIN_DIR)\n",
    "loader = DataLoader(dataset, batch_size=5)\n",
    "count = 0\n",
    "for x, y in loader:\n",
    "    if(count < 5):\n",
    "        print(\"Variable exposure: {}\".format(x.shape))\n",
    "        print(\"Ground truth: {}\".format(y.shape))\n",
    "    else:\n",
    "        break\n",
    "    count+=1"
   ]
  }
 ],
 "metadata": {
  "interpreter": {
   "hash": "79c4193ea2437410cb5e73be0327dd99929b50b42a9030e9ed553799e75925c7"
  },
  "kernelspec": {
   "display_name": "Python 3.8.12 ('WM391')",
   "language": "python",
   "name": "python3"
  },
  "language_info": {
   "codemirror_mode": {
    "name": "ipython",
    "version": 3
   },
   "file_extension": ".py",
   "mimetype": "text/x-python",
   "name": "python",
   "nbconvert_exporter": "python",
   "pygments_lexer": "ipython3",
   "version": "3.8.12"
  },
  "orig_nbformat": 4
 },
 "nbformat": 4,
 "nbformat_minor": 2
}
