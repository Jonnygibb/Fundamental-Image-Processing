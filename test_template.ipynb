{
 "cells": [
  {
   "cell_type": "markdown",
   "metadata": {},
   "source": [
    "# This notebook helps you check and visualise your implementaions\n",
    "\n"
   ]
  },
  {
   "cell_type": "code",
   "execution_count": null,
   "metadata": {},
   "outputs": [],
   "source": [
    "# Reset the variables in the workspace\n",
    "%reset -f \n",
    "# Import required libraries\n",
    "import os, time\n",
    "from skimage import io, img_as_float32\n",
    "from skimage.transform import rescale\n",
    "import numpy as np\n",
    "from numpy import pi, exp, sqrt\n",
    "%matplotlib inline\n",
    "import matplotlib.pyplot as plt\n",
    "plt.rcParams['figure.figsize'] = [9.5, 6]   # width X height in inches\n",
    "\n",
    "from A1_template import *  # importing your implemented functions\n"
   ]
  },
  {
   "cell_type": "code",
   "execution_count": null,
   "metadata": {},
   "outputs": [],
   "source": [
    "image = img_as_float32(io.imread('./images/4a_einstein.bmp'))  # to maintain accuracy during future FFT operations\n",
    "#image = rescale(image, 0.7, mode='reflect', multichannel=True) # scale image to reduce computation time during testing"
   ]
  },
  {
   "cell_type": "markdown",
   "metadata": {},
   "source": [
    "# Testing the spatial filtering functions"
   ]
  },
  {
   "cell_type": "code",
   "execution_count": null,
   "metadata": {},
   "outputs": [],
   "source": [
    "#Identity/impulse filter \n",
    "identity_filter = np.asarray([[0, 0, 0], [0, 1, 0], [0, 0, 0]], dtype=np.float32)  #3x3 identity filter\n",
    "identiy_image = spatial_dom_filter(image, identity_filter)\n",
    "plt.imshow(identiy_image)   \n",
    "plt.show() # should plot the input image as it is without any changes"
   ]
  },
  {
   "cell_type": "code",
   "execution_count": null,
   "metadata": {},
   "outputs": [],
   "source": [
    "# Gaussian low pass filter\n",
    "\n",
    "spatial_sigma = 4              # standard deviation of the gaussian kernel in pixels\n",
    "spatial = gaussLP_2D_space(spatial_sigma, 1)\n",
    "gauss_LPspace_img = spatial_dom_filter(image, spatial)\n",
    "\n",
    "fig, ax = plt.subplots()\n",
    "ax.imshow(gauss_LPspace_img)\n",
    "plt.show()"
   ]
  },
  {
   "cell_type": "markdown",
   "metadata": {},
   "source": [
    "###### You can try testing your implementaion against other filters as well"
   ]
  },
  {
   "cell_type": "code",
   "execution_count": null,
   "metadata": {},
   "outputs": [],
   "source": []
  },
  {
   "cell_type": "markdown",
   "metadata": {},
   "source": [
    "# Testing the frequency domain filter functions\n"
   ]
  },
  {
   "cell_type": "markdown",
   "metadata": {},
   "source": [
    "### Gaussian low pass filtering in the frequency domain\n",
    "set the cutoff frequency vaue below\n"
   ]
  },
  {
   "cell_type": "code",
   "execution_count": null,
   "metadata": {},
   "outputs": [],
   "source": [
    "cutoff_freq = 20"
   ]
  },
  {
   "cell_type": "code",
   "execution_count": null,
   "metadata": {},
   "outputs": [],
   "source": [
    "k_size = image.shape[:2]\n",
    "\n",
    "filter = gaussLP_2D_freq(cutoff_freq, (k_size), 1)\n",
    "gauss_LP_image = freqency_dom_filter(image,filter)\n",
    "\n",
    "fig, ax = plt.subplots()\n",
    "ax.imshow(gauss_LP_image)\n",
    "ax.set_title('Gaussian low pass')\n",
    "plt.show()"
   ]
  },
  {
   "cell_type": "markdown",
   "metadata": {},
   "source": [
    "# Testing the effect of padding images for frequency domain filtering"
   ]
  },
  {
   "cell_type": "code",
   "execution_count": null,
   "metadata": {},
   "outputs": [],
   "source": [
    "# Modify the imputs to the existing gaussian filters and freqency_dom_filter functions\n",
    "filter_pad = # padded filter of appropriate size\n",
    "image_pad = # appropriately padded image\n",
    "result_padded = freqency_dom_filter(image_pad,filter_pad)\n",
    "result_padded = result_padded[:image.shape[0],:image.shape[1],:]\n",
    "\n",
    "\n",
    "fig, ax = plt.subplots(1,3, figsize=(12,4))\n",
    "ax[0].imshow(gauss_LP_image)\n",
    "ax[1].imshow(result_padded)\n",
    "ax[2].imshow(np.abs(gauss_LP_image - result_padded))\n",
    "\n",
    "ax[0].set_title('Gaussian low pass')\n",
    "ax[1].set_title('Gaussian low pass with padding')\n",
    "ax[2].set_title('Absolute intensity difference')\n",
    "plt.show()"
   ]
  },
  {
   "cell_type": "markdown",
   "metadata": {},
   "source": [
    "# Testing the computational difference between spatial and frequency domain\n",
    "\n",
    "Test for cutoff frequency from 5 to 50"
   ]
  },
  {
   "cell_type": "code",
   "execution_count": null,
   "metadata": {},
   "outputs": [],
   "source": [
    "cutoff_freq =15\n",
    "spatial_sigma = image.shape[0]/(2*pi*cutoff_freq)  # a very rough spatial equivalent, can you find a better approximation?\n",
    "\n",
    "t1= time.perf_counter()\n",
    "\n",
    "spatial = gaussLP_2D_space(spatial_sigma, 1)\n",
    "spatial_blur_img = spatial_dom_filter(image, spatial)\n",
    "\n",
    "t2= time.perf_counter()\n",
    "\n",
    "print('Computational time in Frequency domain is {}s'.format(t2-t1))\n",
    "\n",
    "\n",
    "t1 = time.perf_counter()\n",
    "\n",
    "######Modify the below section according to your choice of padding method####\n",
    "filter_pad = # your code here\n",
    "filtered_image_pad = # your code here\n",
    "#############################################################################\n",
    "t2 = time.perf_counter()\n",
    "      \n",
    "print('Computational time in Space domain  is {}s'.format(t2-t1))\n",
    "\n",
    "fig, ax = plt.subplots(1,3)\n",
    "ax[0].imshow(spatial_blur_img)\n",
    "ax[1].imshow(filtered_image_pad)\n",
    "ax[2].imshow(abs(filtered_image_pad - spatial_blur_img))\n",
    "\n",
    "ax[0].set_title('Gaussian Spatial')\n",
    "ax[1].set_title('Gaussian Frequency')\n",
    "ax[2].set_title('Absolute intensity difference')\n",
    "plt.show()\n"
   ]
  },
  {
   "cell_type": "code",
   "execution_count": null,
   "metadata": {},
   "outputs": [],
   "source": []
  },
  {
   "cell_type": "code",
   "execution_count": null,
   "metadata": {},
   "outputs": [],
   "source": []
  },
  {
   "cell_type": "code",
   "execution_count": null,
   "metadata": {},
   "outputs": [],
   "source": []
  }
 ],
 "metadata": {
  "kernelspec": {
   "display_name": "Python 3 (ipykernel)",
   "language": "python",
   "name": "python3"
  },
  "language_info": {
   "codemirror_mode": {
    "name": "ipython",
    "version": 3
   },
   "file_extension": ".py",
   "mimetype": "text/x-python",
   "name": "python",
   "nbconvert_exporter": "python",
   "pygments_lexer": "ipython3",
   "version": "3.8.12"
  }
 },
 "nbformat": 4,
 "nbformat_minor": 4
}
